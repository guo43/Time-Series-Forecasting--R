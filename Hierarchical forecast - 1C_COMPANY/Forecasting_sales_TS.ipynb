{
 "cells": [
  {
   "cell_type": "code",
   "execution_count": null,
   "metadata": {},
   "outputs": [],
   "source": [
    "library(dplyr)\n",
    "library(fpp2)\n",
    "library(stringr)\n",
    "library(seasonal)"
   ]
  },
  {
   "cell_type": "code",
   "execution_count": null,
   "metadata": {},
   "outputs": [],
   "source": [
    "# import files in to R\n",
    "setwd(\"/Users/qingguo/Desktop/1C_Company/Data\")\n",
    "fnames = dir(getwd(), full.names = FALSE)\n",
    "data_list = sapply(fnames, read.csv, simplify = FALSE) %>% sapply(as.data.frame)"
   ]
  },
  {
   "cell_type": "code",
   "execution_count": null,
   "metadata": {},
   "outputs": [],
   "source": [
    "# batch name dataset as its file names \n",
    "vnames = str_sub(fnames, 1, -5)\n",
    "for ( i in 1:length(vnames)) {\n",
    "  assign(vnames[[i]], data_list[[i]])\n",
    "}"
   ]
  },
  {
   "cell_type": "markdown",
   "metadata": {},
   "source": [
    "## **preprocesing data** "
   ]
  },
  {
   "cell_type": "code",
   "execution_count": null,
   "metadata": {},
   "outputs": [],
   "source": [
    "\n",
    "sales_train = merge(sales_train, select(items,-item_name), by.x = \"item_id\", by.y = \"item_id\", all.x = TRUE)\n",
    "sales_train$date = as.Date(sales_train$date, \"%d.%m.%Y\")\n",
    "sales_train = arrange(sales_train,date)\n",
    "\n",
    "# monthly total sales \n",
    "month_sales = sales_train %>% \n",
    "  group_by(date_block_num, shop_id, item_id,item_price) %>% \n",
    "  summarise(item_cnt_month = sum(item_cnt_day))"
   ]
  }
 ],
 "metadata": {
  "kernelspec": {
   "display_name": "R",
   "language": "R",
   "name": "ir"
  },
  "language_info": {
   "codemirror_mode": "r",
   "file_extension": ".r",
   "mimetype": "text/x-r-source",
   "name": "R",
   "pygments_lexer": "r",
   "version": "3.5.1"
  }
 },
 "nbformat": 4,
 "nbformat_minor": 2
}

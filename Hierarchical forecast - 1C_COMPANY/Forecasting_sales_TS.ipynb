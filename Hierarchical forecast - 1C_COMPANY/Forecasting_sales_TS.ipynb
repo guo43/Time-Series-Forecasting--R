{
 "cells": [
  {
   "cell_type": "code",
   "execution_count": 1,
   "metadata": {},
   "outputs": [
    {
     "name": "stderr",
     "output_type": "stream",
     "text": [
      "\n",
      "Attaching package: ‘dplyr’\n",
      "\n",
      "The following objects are masked from ‘package:stats’:\n",
      "\n",
      "    filter, lag\n",
      "\n",
      "The following objects are masked from ‘package:base’:\n",
      "\n",
      "    intersect, setdiff, setequal, union\n",
      "\n",
      "Loading required package: ggplot2\n",
      "Loading required package: forecast\n",
      "Loading required package: fma\n",
      "Loading required package: expsmooth\n"
     ]
    }
   ],
   "source": [
    "library(dplyr)\n",
    "library(fpp2)\n",
    "library(stringr)\n",
    "library(seasonal)"
   ]
  },
  {
   "cell_type": "code",
   "execution_count": 2,
   "metadata": {},
   "outputs": [
    {
     "data": {
      "text/html": [
       "'/Users/qingguo/Documents/Git/Time-Series-Forecasting-/Hierarchical forecast - 1C_COMPANY/DATA'"
      ],
      "text/latex": [
       "'/Users/qingguo/Documents/Git/Time-Series-Forecasting-/Hierarchical forecast - 1C\\_COMPANY/DATA'"
      ],
      "text/markdown": [
       "'/Users/qingguo/Documents/Git/Time-Series-Forecasting-/Hierarchical forecast - 1C_COMPANY/DATA'"
      ],
      "text/plain": [
       "[1] \"/Users/qingguo/Documents/Git/Time-Series-Forecasting-/Hierarchical forecast - 1C_COMPANY/DATA\""
      ]
     },
     "metadata": {},
     "output_type": "display_data"
    }
   ],
   "source": [
    "setwd(\"/Users/qingguo/Documents/Git/Time-Series-Forecasting-/Hierarchical forecast - 1C_COMPANY/Data\")\n",
    "getwd()"
   ]
  },
  {
   "cell_type": "code",
   "execution_count": 3,
   "metadata": {},
   "outputs": [],
   "source": [
    "# import files in to R\n",
    "fnames = dir(getwd(), full.names = FALSE)\n",
    "data_list = sapply(fnames, read.csv, simplify = FALSE) %>% sapply(as.data.frame)"
   ]
  },
  {
   "cell_type": "code",
   "execution_count": 4,
   "metadata": {},
   "outputs": [],
   "source": [
    "# batch name dataset as its file names \n",
    "vnames = str_sub(fnames, 1, -5)\n",
    "for ( i in 1:length(vnames)) {\n",
    "  assign(vnames[[i]], data_list[[i]])\n",
    "}"
   ]
  },
  {
   "cell_type": "code",
   "execution_count": 5,
   "metadata": {},
   "outputs": [
    {
     "data": {
      "text/html": [
       "<ol class=list-inline>\n",
       "\t<li>'item_categories'</li>\n",
       "\t<li>'items'</li>\n",
       "\t<li>'sales_train'</li>\n",
       "\t<li>'sample_submission'</li>\n",
       "\t<li>'shops'</li>\n",
       "\t<li>'test'</li>\n",
       "</ol>\n"
      ],
      "text/latex": [
       "\\begin{enumerate*}\n",
       "\\item 'item\\_categories'\n",
       "\\item 'items'\n",
       "\\item 'sales\\_train'\n",
       "\\item 'sample\\_submission'\n",
       "\\item 'shops'\n",
       "\\item 'test'\n",
       "\\end{enumerate*}\n"
      ],
      "text/markdown": [
       "1. 'item_categories'\n",
       "2. 'items'\n",
       "3. 'sales_train'\n",
       "4. 'sample_submission'\n",
       "5. 'shops'\n",
       "6. 'test'\n",
       "\n",
       "\n"
      ],
      "text/plain": [
       "[1] \"item_categories\"   \"items\"             \"sales_train\"      \n",
       "[4] \"sample_submission\" \"shops\"             \"test\"             "
      ]
     },
     "metadata": {},
     "output_type": "display_data"
    }
   ],
   "source": [
    "vnames"
   ]
  },
  {
   "cell_type": "code",
   "execution_count": 6,
   "metadata": {},
   "outputs": [
    {
     "data": {
      "text/html": [
       "<table>\n",
       "<thead><tr><th scope=col>date</th><th scope=col>date_block_num</th><th scope=col>shop_id</th><th scope=col>item_id</th><th scope=col>item_price</th><th scope=col>item_cnt_day</th></tr></thead>\n",
       "<tbody>\n",
       "\t<tr><td>02.01.2013</td><td>0         </td><td>59        </td><td>22154     </td><td> 999.00   </td><td> 1        </td></tr>\n",
       "\t<tr><td>03.01.2013</td><td>0         </td><td>25        </td><td> 2552     </td><td> 899.00   </td><td> 1        </td></tr>\n",
       "\t<tr><td>05.01.2013</td><td>0         </td><td>25        </td><td> 2552     </td><td> 899.00   </td><td>-1        </td></tr>\n",
       "\t<tr><td>06.01.2013</td><td>0         </td><td>25        </td><td> 2554     </td><td>1709.05   </td><td> 1        </td></tr>\n",
       "\t<tr><td>15.01.2013</td><td>0         </td><td>25        </td><td> 2555     </td><td>1099.00   </td><td> 1        </td></tr>\n",
       "\t<tr><td>10.01.2013</td><td>0         </td><td>25        </td><td> 2564     </td><td> 349.00   </td><td> 1        </td></tr>\n",
       "</tbody>\n",
       "</table>\n"
      ],
      "text/latex": [
       "\\begin{tabular}{r|llllll}\n",
       " date & date\\_block\\_num & shop\\_id & item\\_id & item\\_price & item\\_cnt\\_day\\\\\n",
       "\\hline\n",
       "\t 02.01.2013 & 0          & 59         & 22154      &  999.00    &  1        \\\\\n",
       "\t 03.01.2013 & 0          & 25         &  2552      &  899.00    &  1        \\\\\n",
       "\t 05.01.2013 & 0          & 25         &  2552      &  899.00    & -1        \\\\\n",
       "\t 06.01.2013 & 0          & 25         &  2554      & 1709.05    &  1        \\\\\n",
       "\t 15.01.2013 & 0          & 25         &  2555      & 1099.00    &  1        \\\\\n",
       "\t 10.01.2013 & 0          & 25         &  2564      &  349.00    &  1        \\\\\n",
       "\\end{tabular}\n"
      ],
      "text/markdown": [
       "\n",
       "date | date_block_num | shop_id | item_id | item_price | item_cnt_day | \n",
       "|---|---|---|---|---|---|\n",
       "| 02.01.2013 | 0          | 59         | 22154      |  999.00    |  1         | \n",
       "| 03.01.2013 | 0          | 25         |  2552      |  899.00    |  1         | \n",
       "| 05.01.2013 | 0          | 25         |  2552      |  899.00    | -1         | \n",
       "| 06.01.2013 | 0          | 25         |  2554      | 1709.05    |  1         | \n",
       "| 15.01.2013 | 0          | 25         |  2555      | 1099.00    |  1         | \n",
       "| 10.01.2013 | 0          | 25         |  2564      |  349.00    |  1         | \n",
       "\n",
       "\n"
      ],
      "text/plain": [
       "  date       date_block_num shop_id item_id item_price item_cnt_day\n",
       "1 02.01.2013 0              59      22154    999.00     1          \n",
       "2 03.01.2013 0              25       2552    899.00     1          \n",
       "3 05.01.2013 0              25       2552    899.00    -1          \n",
       "4 06.01.2013 0              25       2554   1709.05     1          \n",
       "5 15.01.2013 0              25       2555   1099.00     1          \n",
       "6 10.01.2013 0              25       2564    349.00     1          "
      ]
     },
     "metadata": {},
     "output_type": "display_data"
    }
   ],
   "source": [
    "head(sales_train)"
   ]
  },
  {
   "cell_type": "markdown",
   "metadata": {},
   "source": [
    "## **Sales increase at the year end **\n",
    "## ** Total sales decreasing **"
   ]
  },
  {
   "cell_type": "code",
   "execution_count": 7,
   "metadata": {},
   "outputs": [
    {
     "data": {},
     "metadata": {},
     "output_type": "display_data"
    },
    {
     "data": {
      "image/png": "[encoded data removed]",
      "text/plain": [
       "plot without title"
      ]
     },
     "metadata": {},
     "output_type": "display_data"
    }
   ],
   "source": [
    "monthly_sales_train = sales_train %>% \n",
    "                            group_by(date_block_num) %>% \n",
    "                            summarise(item_cnt_month = sum(item_cnt_day)) %>%\n",
    "                            ts(start = 2013, frequency = 12)\n",
    "\n",
    "#options(repr.plot.width = 5, repr.plot.height = 2) # change plot size\n",
    "\n",
    "monthly_sales_train[,\"item_cnt_month\"] %>% decompose(type = \"additive\") %>%\n",
    "    autoplot()+\n",
    "        ggtitle(\"Classical additive decomposition of monthly sales\") +\n",
    "        xlab(\"Year\")+\n",
    "        ylab(\"Montly item counts\")\n",
    "        \n"
   ]
  },
  {
   "cell_type": "markdown",
   "metadata": {},
   "source": [
    "## **preprocesing data** "
   ]
  },
  {
   "cell_type": "code",
   "execution_count": 8,
   "metadata": {},
   "outputs": [
    {
     "data": {
      "text/html": [
       "<table>\n",
       "<thead><tr><th scope=col>item_id</th><th scope=col>date</th><th scope=col>date_block_num</th><th scope=col>shop_id</th><th scope=col>item_price</th><th scope=col>item_cnt_day</th><th scope=col>item_category_id</th></tr></thead>\n",
       "<tbody>\n",
       "\t<tr><td>32        </td><td>2013-01-01</td><td>0         </td><td>54        </td><td>349.00    </td><td>2         </td><td>40        </td></tr>\n",
       "\t<tr><td>32        </td><td>2013-01-01</td><td>0         </td><td>46        </td><td>349.00    </td><td>1         </td><td>40        </td></tr>\n",
       "\t<tr><td>32        </td><td>2013-01-01</td><td>0         </td><td>38        </td><td>349.00    </td><td>1         </td><td>40        </td></tr>\n",
       "\t<tr><td>32        </td><td>2013-01-01</td><td>0         </td><td>42        </td><td>348.44    </td><td>1         </td><td>40        </td></tr>\n",
       "\t<tr><td>32        </td><td>2013-01-01</td><td>0         </td><td>27        </td><td>349.00    </td><td>1         </td><td>40        </td></tr>\n",
       "\t<tr><td>32        </td><td>2013-01-01</td><td>0         </td><td>28        </td><td>349.00    </td><td>1         </td><td>40        </td></tr>\n",
       "</tbody>\n",
       "</table>\n"
      ],
      "text/latex": [
       "\\begin{tabular}{r|lllllll}\n",
       " item\\_id & date & date\\_block\\_num & shop\\_id & item\\_price & item\\_cnt\\_day & item\\_category\\_id\\\\\n",
       "\\hline\n",
       "\t 32         & 2013-01-01 & 0          & 54         & 349.00     & 2          & 40        \\\\\n",
       "\t 32         & 2013-01-01 & 0          & 46         & 349.00     & 1          & 40        \\\\\n",
       "\t 32         & 2013-01-01 & 0          & 38         & 349.00     & 1          & 40        \\\\\n",
       "\t 32         & 2013-01-01 & 0          & 42         & 348.44     & 1          & 40        \\\\\n",
       "\t 32         & 2013-01-01 & 0          & 27         & 349.00     & 1          & 40        \\\\\n",
       "\t 32         & 2013-01-01 & 0          & 28         & 349.00     & 1          & 40        \\\\\n",
       "\\end{tabular}\n"
      ],
      "text/markdown": [
       "\n",
       "item_id | date | date_block_num | shop_id | item_price | item_cnt_day | item_category_id | \n",
       "|---|---|---|---|---|---|\n",
       "| 32         | 2013-01-01 | 0          | 54         | 349.00     | 2          | 40         | \n",
       "| 32         | 2013-01-01 | 0          | 46         | 349.00     | 1          | 40         | \n",
       "| 32         | 2013-01-01 | 0          | 38         | 349.00     | 1          | 40         | \n",
       "| 32         | 2013-01-01 | 0          | 42         | 348.44     | 1          | 40         | \n",
       "| 32         | 2013-01-01 | 0          | 27         | 349.00     | 1          | 40         | \n",
       "| 32         | 2013-01-01 | 0          | 28         | 349.00     | 1          | 40         | \n",
       "\n",
       "\n"
      ],
      "text/plain": [
       "  item_id date       date_block_num shop_id item_price item_cnt_day\n",
       "1 32      2013-01-01 0              54      349.00     2           \n",
       "2 32      2013-01-01 0              46      349.00     1           \n",
       "3 32      2013-01-01 0              38      349.00     1           \n",
       "4 32      2013-01-01 0              42      348.44     1           \n",
       "5 32      2013-01-01 0              27      349.00     1           \n",
       "6 32      2013-01-01 0              28      349.00     1           \n",
       "  item_category_id\n",
       "1 40              \n",
       "2 40              \n",
       "3 40              \n",
       "4 40              \n",
       "5 40              \n",
       "6 40              "
      ]
     },
     "metadata": {},
     "output_type": "display_data"
    }
   ],
   "source": [
    "# add item_category id , set date to date category \n",
    "sales_train = merge(sales_train, select(items,-item_name), by.x = \"item_id\", by.y = \"item_id\", all.x = TRUE)\n",
    "sales_train$date = as.Date(sales_train$date, \"%d.%m.%Y\")\n",
    "sales_train = arrange(sales_train,date)\n",
    "head(sales_train)\n"
   ]
  },
  {
   "cell_type": "code",
   "execution_count": 20,
   "metadata": {},
   "outputs": [
    {
     "data": {
      "text/html": [
       "<table>\n",
       "<thead><tr><th scope=col>item_id</th><th scope=col>date</th><th scope=col>date_block_num</th><th scope=col>shop_id</th><th scope=col>item_price</th><th scope=col>item_cnt_day</th><th scope=col>item_category_id</th><th scope=col>key</th></tr></thead>\n",
       "<tbody>\n",
       "\t<tr><td>32        </td><td>2013-01-01</td><td>0         </td><td>54        </td><td>349.00    </td><td>2         </td><td>40        </td><td>54_40_32  </td></tr>\n",
       "\t<tr><td>32        </td><td>2013-01-01</td><td>0         </td><td>46        </td><td>349.00    </td><td>1         </td><td>40        </td><td>46_40_32  </td></tr>\n",
       "\t<tr><td>32        </td><td>2013-01-01</td><td>0         </td><td>38        </td><td>349.00    </td><td>1         </td><td>40        </td><td>38_40_32  </td></tr>\n",
       "\t<tr><td>32        </td><td>2013-01-01</td><td>0         </td><td>42        </td><td>348.44    </td><td>1         </td><td>40        </td><td>42_40_32  </td></tr>\n",
       "\t<tr><td>32        </td><td>2013-01-01</td><td>0         </td><td>27        </td><td>349.00    </td><td>1         </td><td>40        </td><td>27_40_32  </td></tr>\n",
       "\t<tr><td>32        </td><td>2013-01-01</td><td>0         </td><td>28        </td><td>349.00    </td><td>1         </td><td>40        </td><td>28_40_32  </td></tr>\n",
       "</tbody>\n",
       "</table>\n"
      ],
      "text/latex": [
       "\\begin{tabular}{r|llllllll}\n",
       " item\\_id & date & date\\_block\\_num & shop\\_id & item\\_price & item\\_cnt\\_day & item\\_category\\_id & key\\\\\n",
       "\\hline\n",
       "\t 32           & 2013-01-01   & 0            & 54           & 349.00       & 2            & 40           & 54\\_40\\_32\\\\\n",
       "\t 32           & 2013-01-01   & 0            & 46           & 349.00       & 1            & 40           & 46\\_40\\_32\\\\\n",
       "\t 32           & 2013-01-01   & 0            & 38           & 349.00       & 1            & 40           & 38\\_40\\_32\\\\\n",
       "\t 32           & 2013-01-01   & 0            & 42           & 348.44       & 1            & 40           & 42\\_40\\_32\\\\\n",
       "\t 32           & 2013-01-01   & 0            & 27           & 349.00       & 1            & 40           & 27\\_40\\_32\\\\\n",
       "\t 32           & 2013-01-01   & 0            & 28           & 349.00       & 1            & 40           & 28\\_40\\_32\\\\\n",
       "\\end{tabular}\n"
      ],
      "text/markdown": [
       "\n",
       "item_id | date | date_block_num | shop_id | item_price | item_cnt_day | item_category_id | key | \n",
       "|---|---|---|---|---|---|\n",
       "| 32         | 2013-01-01 | 0          | 54         | 349.00     | 2          | 40         | 54_40_32   | \n",
       "| 32         | 2013-01-01 | 0          | 46         | 349.00     | 1          | 40         | 46_40_32   | \n",
       "| 32         | 2013-01-01 | 0          | 38         | 349.00     | 1          | 40         | 38_40_32   | \n",
       "| 32         | 2013-01-01 | 0          | 42         | 348.44     | 1          | 40         | 42_40_32   | \n",
       "| 32         | 2013-01-01 | 0          | 27         | 349.00     | 1          | 40         | 27_40_32   | \n",
       "| 32         | 2013-01-01 | 0          | 28         | 349.00     | 1          | 40         | 28_40_32   | \n",
       "\n",
       "\n"
      ],
      "text/plain": [
       "  item_id date       date_block_num shop_id item_price item_cnt_day\n",
       "1 32      2013-01-01 0              54      349.00     2           \n",
       "2 32      2013-01-01 0              46      349.00     1           \n",
       "3 32      2013-01-01 0              38      349.00     1           \n",
       "4 32      2013-01-01 0              42      348.44     1           \n",
       "5 32      2013-01-01 0              27      349.00     1           \n",
       "6 32      2013-01-01 0              28      349.00     1           \n",
       "  item_category_id key     \n",
       "1 40               54_40_32\n",
       "2 40               46_40_32\n",
       "3 40               38_40_32\n",
       "4 40               42_40_32\n",
       "5 40               27_40_32\n",
       "6 40               28_40_32"
      ]
     },
     "metadata": {},
     "output_type": "display_data"
    },
    {
     "name": "stdout",
     "output_type": "stream",
     "text": [
      "Observations: 2,935,849\n",
      "Variables: 8\n",
      "$ item_id          <int> 32, 32, 32, 32, 32, 32, 33, 33, 53, 59, 59, 85, 98...\n",
      "$ date             <date> 2013-01-01, 2013-01-01, 2013-01-01, 2013-01-01, 2...\n",
      "$ date_block_num   <int> 0, 0, 0, 0, 0, 0, 0, 0, 0, 0, 0, 0, 0, 0, 0, 0, 0,...\n",
      "$ shop_id          <int> 54, 46, 38, 42, 27, 28, 27, 54, 51, 54, 51, 15, 54...\n",
      "$ item_price       <dbl> 349.00, 349.00, 349.00, 348.44, 349.00, 349.00, 49...\n",
      "$ item_cnt_day     <dbl> 2, 1, 1, 1, 1, 1, 1, 1, 1, 1, 1, 1, 3, 1, 1, 5, 1,...\n",
      "$ item_category_id <int> 40, 40, 40, 40, 40, 40, 37, 37, 57, 57, 57, 37, 40...\n",
      "$ key              <chr> \"54_40_32\", \"46_40_32\", \"38_40_32\", \"42_40_32\", \"2...\n"
     ]
    }
   ],
   "source": [
    "# combine shop id and item id \n",
    "sales_train_new = sales_train %>% \n",
    "        mutate( key = str_c(sales_train$shop_id, sales_train$item_category_id,sales_train$item_id, sep=\"_\"))\n",
    "\n",
    "#change id to factor category \n",
    "sales_train_new$shop_item_id = as.factor(sales_train_new$shop_item_id)\n",
    "sales_train_new$item_id = as.factor(sales_train_new$item_id)\n",
    "sales_train_new$shop_id = as.factor(sales_train_new$shop_id)\n",
    "sales_train_new$date_block_num = as.factor(sales_train_new$date_block_num)\n",
    "\n",
    "head(sales_train_new)\n",
    "glimpse(sales_train_new)"
   ]
  },
  {
   "cell_type": "code",
   "execution_count": 23,
   "metadata": {},
   "outputs": [
    {
     "data": {
      "text/html": [
       "<table>\n",
       "<thead><tr><th scope=col>date_block_num</th><th scope=col>key</th><th scope=col>item_cnt_month</th></tr></thead>\n",
       "<tbody>\n",
       "\t<tr><td>0         </td><td>0_11_13435</td><td>4         </td></tr>\n",
       "\t<tr><td>0         </td><td>0_11_13478</td><td>5         </td></tr>\n",
       "\t<tr><td>0         </td><td>0_11_13480</td><td>3         </td></tr>\n",
       "\t<tr><td>0         </td><td>0_11_13482</td><td>1         </td></tr>\n",
       "\t<tr><td>0         </td><td>0_11_13484</td><td>3         </td></tr>\n",
       "\t<tr><td>0         </td><td>0_11_13487</td><td>2         </td></tr>\n",
       "</tbody>\n",
       "</table>\n"
      ],
      "text/latex": [
       "\\begin{tabular}{r|lll}\n",
       " date\\_block\\_num & key & item\\_cnt\\_month\\\\\n",
       "\\hline\n",
       "\t 0              & 0\\_11\\_13435 & 4             \\\\\n",
       "\t 0              & 0\\_11\\_13478 & 5             \\\\\n",
       "\t 0              & 0\\_11\\_13480 & 3             \\\\\n",
       "\t 0              & 0\\_11\\_13482 & 1             \\\\\n",
       "\t 0              & 0\\_11\\_13484 & 3             \\\\\n",
       "\t 0              & 0\\_11\\_13487 & 2             \\\\\n",
       "\\end{tabular}\n"
      ],
      "text/markdown": [
       "\n",
       "date_block_num | key | item_cnt_month | \n",
       "|---|---|---|---|---|---|\n",
       "| 0          | 0_11_13435 | 4          | \n",
       "| 0          | 0_11_13478 | 5          | \n",
       "| 0          | 0_11_13480 | 3          | \n",
       "| 0          | 0_11_13482 | 1          | \n",
       "| 0          | 0_11_13484 | 3          | \n",
       "| 0          | 0_11_13487 | 2          | \n",
       "\n",
       "\n"
      ],
      "text/plain": [
       "  date_block_num key        item_cnt_month\n",
       "1 0              0_11_13435 4             \n",
       "2 0              0_11_13478 5             \n",
       "3 0              0_11_13480 3             \n",
       "4 0              0_11_13482 1             \n",
       "5 0              0_11_13484 3             \n",
       "6 0              0_11_13487 2             "
      ]
     },
     "metadata": {},
     "output_type": "display_data"
    },
    {
     "data": {
      "text/html": [
       "<table>\n",
       "<thead><tr><th scope=col>date_block_num</th><th scope=col>key</th><th scope=col>item_cnt_month</th></tr></thead>\n",
       "<tbody>\n",
       "\t<tr><td>33        </td><td>9_72_20831</td><td>  8       </td></tr>\n",
       "\t<tr><td>33        </td><td>9_72_20832</td><td> 10       </td></tr>\n",
       "\t<tr><td>33        </td><td>9_72_20833</td><td>  1       </td></tr>\n",
       "\t<tr><td>33        </td><td>9_72_20866</td><td> 30       </td></tr>\n",
       "\t<tr><td>33        </td><td>9_72_9469 </td><td>  1       </td></tr>\n",
       "\t<tr><td>33        </td><td>9_75_4201 </td><td>194       </td></tr>\n",
       "</tbody>\n",
       "</table>\n"
      ],
      "text/latex": [
       "\\begin{tabular}{r|lll}\n",
       " date\\_block\\_num & key & item\\_cnt\\_month\\\\\n",
       "\\hline\n",
       "\t 33             & 9\\_72\\_20831 &   8           \\\\\n",
       "\t 33             & 9\\_72\\_20832 &  10           \\\\\n",
       "\t 33             & 9\\_72\\_20833 &   1           \\\\\n",
       "\t 33             & 9\\_72\\_20866 &  30           \\\\\n",
       "\t 33             & 9\\_72\\_9469  &   1           \\\\\n",
       "\t 33             & 9\\_75\\_4201  & 194           \\\\\n",
       "\\end{tabular}\n"
      ],
      "text/markdown": [
       "\n",
       "date_block_num | key | item_cnt_month | \n",
       "|---|---|---|---|---|---|\n",
       "| 33         | 9_72_20831 |   8        | \n",
       "| 33         | 9_72_20832 |  10        | \n",
       "| 33         | 9_72_20833 |   1        | \n",
       "| 33         | 9_72_20866 |  30        | \n",
       "| 33         | 9_72_9469  |   1        | \n",
       "| 33         | 9_75_4201  | 194        | \n",
       "\n",
       "\n"
      ],
      "text/plain": [
       "  date_block_num key        item_cnt_month\n",
       "1 33             9_72_20831   8           \n",
       "2 33             9_72_20832  10           \n",
       "3 33             9_72_20833   1           \n",
       "4 33             9_72_20866  30           \n",
       "5 33             9_72_9469    1           \n",
       "6 33             9_75_4201  194           "
      ]
     },
     "metadata": {},
     "output_type": "display_data"
    }
   ],
   "source": [
    "sales_train_monthly = sales_train_new %>%\n",
    "                        group_by(date_block_num,key) %>%\n",
    "                        summarise(item_cnt_month = sum(item_cnt_day))\n",
    "\n",
    "head(sales_train_monthly)\n",
    "tail(sales_train_monthly)"
   ]
  },
  {
   "cell_type": "code",
   "execution_count": 11,
   "metadata": {},
   "outputs": [
    {
     "data": {
      "text/html": [
       "1609124"
      ],
      "text/latex": [
       "1609124"
      ],
      "text/markdown": [
       "1609124"
      ],
      "text/plain": [
       "[1] 1609124"
      ]
     },
     "metadata": {},
     "output_type": "display_data"
    },
    {
     "data": {
      "text/html": [
       "1609124"
      ],
      "text/latex": [
       "1609124"
      ],
      "text/markdown": [
       "1609124"
      ],
      "text/plain": [
       "[1] 1609124"
      ]
     },
     "metadata": {},
     "output_type": "display_data"
    },
    {
     "ename": "ERROR",
     "evalue": "Error in unique(x): object 'x' not found\n",
     "output_type": "error",
     "traceback": [
      "Error in unique(x): object 'x' not found\nTraceback:\n",
      "1. apply(sales_train_monthly, fun(x), length(unique(x)))",
      "2. match.fun(FUN)",
      "3. unique(x)"
     ]
    }
   ],
   "source": [
    "nrow(sales_train_monthly)\n",
    "nrow(unique(sales_train_monthly))\n"
   ]
  },
  {
   "cell_type": "code",
   "execution_count": 14,
   "metadata": {},
   "outputs": [
    {
     "data": {
      "text/html": [
       "<dl class=dl-horizontal>\n",
       "\t<dt>date_block_num</dt>\n",
       "\t\t<dd>34</dd>\n",
       "\t<dt>shop_item_id</dt>\n",
       "\t\t<dd>424124</dd>\n",
       "\t<dt>item_cnt_month</dt>\n",
       "\t\t<dd>446</dd>\n",
       "</dl>\n"
      ],
      "text/latex": [
       "\\begin{description*}\n",
       "\\item[date\\textbackslash{}\\_block\\textbackslash{}\\_num] 34\n",
       "\\item[shop\\textbackslash{}\\_item\\textbackslash{}\\_id] 424124\n",
       "\\item[item\\textbackslash{}\\_cnt\\textbackslash{}\\_month] 446\n",
       "\\end{description*}\n"
      ],
      "text/markdown": [
       "date_block_num\n",
       ":   34shop_item_id\n",
       ":   424124item_cnt_month\n",
       ":   446\n",
       "\n"
      ],
      "text/plain": [
       "date_block_num   shop_item_id item_cnt_month \n",
       "            34         424124            446 "
      ]
     },
     "metadata": {},
     "output_type": "display_data"
    }
   ],
   "source": [
    "apply(sales_train_monthly, 2, function(x) length(unique(x)))\n",
    "      "
   ]
  },
  {
   "cell_type": "code",
   "execution_count": 15,
   "metadata": {},
   "outputs": [
    {
     "data": {
      "text/html": [
       "<dl class=dl-horizontal>\n",
       "\t<dt>date_block_num</dt>\n",
       "\t\t<dd>0</dd>\n",
       "\t<dt>shop_item_id</dt>\n",
       "\t\t<dd>0</dd>\n",
       "\t<dt>item_cnt_month</dt>\n",
       "\t\t<dd>0</dd>\n",
       "</dl>\n"
      ],
      "text/latex": [
       "\\begin{description*}\n",
       "\\item[date\\textbackslash{}\\_block\\textbackslash{}\\_num] 0\n",
       "\\item[shop\\textbackslash{}\\_item\\textbackslash{}\\_id] 0\n",
       "\\item[item\\textbackslash{}\\_cnt\\textbackslash{}\\_month] 0\n",
       "\\end{description*}\n"
      ],
      "text/markdown": [
       "date_block_num\n",
       ":   0shop_item_id\n",
       ":   0item_cnt_month\n",
       ":   0\n",
       "\n"
      ],
      "text/plain": [
       "date_block_num   shop_item_id item_cnt_month \n",
       "             0              0              0 "
      ]
     },
     "metadata": {},
     "output_type": "display_data"
    }
   ],
   "source": [
    "apply(sales_train_monthly, 2, function(x) sum(is.na(x)))"
   ]
  },
  {
   "cell_type": "code",
   "execution_count": 33,
   "metadata": {},
   "outputs": [
    {
     "data": {
      "text/html": [
       "60"
      ],
      "text/latex": [
       "60"
      ],
      "text/markdown": [
       "60"
      ],
      "text/plain": [
       "[1] 60"
      ]
     },
     "metadata": {},
     "output_type": "display_data"
    },
    {
     "data": {
      "text/html": [
       "21807"
      ],
      "text/latex": [
       "21807"
      ],
      "text/markdown": [
       "21807"
      ],
      "text/plain": [
       "[1] 21807"
      ]
     },
     "metadata": {},
     "output_type": "display_data"
    }
   ],
   "source": [
    "length(unique(sales_train$shop_id))\n",
    "\n",
    "length(unique(sales_train$item_id))"
   ]
  },
  {
   "cell_type": "code",
   "execution_count": 25,
   "metadata": {},
   "outputs": [],
   "source": [
    "library(\"reshape2\")"
   ]
  },
  {
   "cell_type": "code",
   "execution_count": null,
   "metadata": {},
   "outputs": [],
   "source": [
    "colnames(sales_train_monthly)"
   ]
  },
  {
   "cell_type": "code",
   "execution_count": 34,
   "metadata": {},
   "outputs": [],
   "source": [
    "dat_wide = dcast(sales_train_monthly,  key ~ date_block_num , value.var = 'item_cnt_month')"
   ]
  },
  {
   "cell_type": "code",
   "execution_count": 27,
   "metadata": {},
   "outputs": [
    {
     "data": {
      "text/html": [
       "<table>\n",
       "<thead><tr><th scope=col>key</th><th scope=col>0</th><th scope=col>1</th><th scope=col>2</th><th scope=col>3</th><th scope=col>4</th><th scope=col>5</th><th scope=col>6</th><th scope=col>7</th><th scope=col>8</th><th scope=col>⋯</th><th scope=col>24</th><th scope=col>25</th><th scope=col>26</th><th scope=col>27</th><th scope=col>28</th><th scope=col>29</th><th scope=col>30</th><th scope=col>31</th><th scope=col>32</th><th scope=col>33</th></tr></thead>\n",
       "<tbody>\n",
       "\t<tr><td>0_0_16255 </td><td>NA        </td><td> 1        </td><td>NA        </td><td>NA        </td><td>NA        </td><td>NA        </td><td>NA        </td><td>NA        </td><td>NA        </td><td>⋯         </td><td>NA        </td><td>NA        </td><td>NA        </td><td>NA        </td><td>NA        </td><td>NA        </td><td>NA        </td><td>NA        </td><td>NA        </td><td>NA        </td></tr>\n",
       "\t<tr><td>0_1_5740  </td><td>NA        </td><td> 1        </td><td>NA        </td><td>NA        </td><td>NA        </td><td>NA        </td><td>NA        </td><td>NA        </td><td>NA        </td><td>⋯         </td><td>NA        </td><td>NA        </td><td>NA        </td><td>NA        </td><td>NA        </td><td>NA        </td><td>NA        </td><td>NA        </td><td>NA        </td><td>NA        </td></tr>\n",
       "\t<tr><td>0_11_13435</td><td> 4        </td><td>NA        </td><td>NA        </td><td>NA        </td><td>NA        </td><td>NA        </td><td>NA        </td><td>NA        </td><td>NA        </td><td>⋯         </td><td>NA        </td><td>NA        </td><td>NA        </td><td>NA        </td><td>NA        </td><td>NA        </td><td>NA        </td><td>NA        </td><td>NA        </td><td>NA        </td></tr>\n",
       "\t<tr><td>0_11_13469</td><td>NA        </td><td> 1        </td><td>NA        </td><td>NA        </td><td>NA        </td><td>NA        </td><td>NA        </td><td>NA        </td><td>NA        </td><td>⋯         </td><td>NA        </td><td>NA        </td><td>NA        </td><td>NA        </td><td>NA        </td><td>NA        </td><td>NA        </td><td>NA        </td><td>NA        </td><td>NA        </td></tr>\n",
       "\t<tr><td>0_11_13478</td><td> 5        </td><td> 2        </td><td>NA        </td><td>NA        </td><td>NA        </td><td>NA        </td><td>NA        </td><td>NA        </td><td>NA        </td><td>⋯         </td><td>NA        </td><td>NA        </td><td>NA        </td><td>NA        </td><td>NA        </td><td>NA        </td><td>NA        </td><td>NA        </td><td>NA        </td><td>NA        </td></tr>\n",
       "\t<tr><td>0_11_13480</td><td> 3        </td><td> 2        </td><td>NA        </td><td>NA        </td><td>NA        </td><td>NA        </td><td>NA        </td><td>NA        </td><td>NA        </td><td>⋯         </td><td>NA        </td><td>NA        </td><td>NA        </td><td>NA        </td><td>NA        </td><td>NA        </td><td>NA        </td><td>NA        </td><td>NA        </td><td>NA        </td></tr>\n",
       "</tbody>\n",
       "</table>\n"
      ],
      "text/latex": [
       "\\begin{tabular}{r|lllllllllllllllllllllllllllllllllll}\n",
       " key & 0 & 1 & 2 & 3 & 4 & 5 & 6 & 7 & 8 & ⋯ & 24 & 25 & 26 & 27 & 28 & 29 & 30 & 31 & 32 & 33\\\\\n",
       "\\hline\n",
       "\t 0\\_0\\_16255  & NA             &  1             & NA             & NA             & NA             & NA             & NA             & NA             & NA             & ⋯              & NA             & NA             & NA             & NA             & NA             & NA             & NA             & NA             & NA             & NA            \\\\\n",
       "\t 0\\_1\\_5740   & NA             &  1             & NA             & NA             & NA             & NA             & NA             & NA             & NA             & ⋯              & NA             & NA             & NA             & NA             & NA             & NA             & NA             & NA             & NA             & NA            \\\\\n",
       "\t 0\\_11\\_13435 &  4             & NA             & NA             & NA             & NA             & NA             & NA             & NA             & NA             & ⋯              & NA             & NA             & NA             & NA             & NA             & NA             & NA             & NA             & NA             & NA            \\\\\n",
       "\t 0\\_11\\_13469 & NA             &  1             & NA             & NA             & NA             & NA             & NA             & NA             & NA             & ⋯              & NA             & NA             & NA             & NA             & NA             & NA             & NA             & NA             & NA             & NA            \\\\\n",
       "\t 0\\_11\\_13478 &  5             &  2             & NA             & NA             & NA             & NA             & NA             & NA             & NA             & ⋯              & NA             & NA             & NA             & NA             & NA             & NA             & NA             & NA             & NA             & NA            \\\\\n",
       "\t 0\\_11\\_13480 &  3             &  2             & NA             & NA             & NA             & NA             & NA             & NA             & NA             & ⋯              & NA             & NA             & NA             & NA             & NA             & NA             & NA             & NA             & NA             & NA            \\\\\n",
       "\\end{tabular}\n"
      ],
      "text/markdown": [
       "\n",
       "key | 0 | 1 | 2 | 3 | 4 | 5 | 6 | 7 | 8 | ⋯ | 24 | 25 | 26 | 27 | 28 | 29 | 30 | 31 | 32 | 33 | \n",
       "|---|---|---|---|---|---|\n",
       "| 0_0_16255  | NA         |  1         | NA         | NA         | NA         | NA         | NA         | NA         | NA         | ⋯          | NA         | NA         | NA         | NA         | NA         | NA         | NA         | NA         | NA         | NA         | \n",
       "| 0_1_5740   | NA         |  1         | NA         | NA         | NA         | NA         | NA         | NA         | NA         | ⋯          | NA         | NA         | NA         | NA         | NA         | NA         | NA         | NA         | NA         | NA         | \n",
       "| 0_11_13435 |  4         | NA         | NA         | NA         | NA         | NA         | NA         | NA         | NA         | ⋯          | NA         | NA         | NA         | NA         | NA         | NA         | NA         | NA         | NA         | NA         | \n",
       "| 0_11_13469 | NA         |  1         | NA         | NA         | NA         | NA         | NA         | NA         | NA         | ⋯          | NA         | NA         | NA         | NA         | NA         | NA         | NA         | NA         | NA         | NA         | \n",
       "| 0_11_13478 |  5         |  2         | NA         | NA         | NA         | NA         | NA         | NA         | NA         | ⋯          | NA         | NA         | NA         | NA         | NA         | NA         | NA         | NA         | NA         | NA         | \n",
       "| 0_11_13480 |  3         |  2         | NA         | NA         | NA         | NA         | NA         | NA         | NA         | ⋯          | NA         | NA         | NA         | NA         | NA         | NA         | NA         | NA         | NA         | NA         | \n",
       "\n",
       "\n"
      ],
      "text/plain": [
       "  key        0  1  2  3  4  5  6  7  8  ⋯ 24 25 26 27 28 29 30 31 32 33\n",
       "1 0_0_16255  NA  1 NA NA NA NA NA NA NA ⋯ NA NA NA NA NA NA NA NA NA NA\n",
       "2 0_1_5740   NA  1 NA NA NA NA NA NA NA ⋯ NA NA NA NA NA NA NA NA NA NA\n",
       "3 0_11_13435  4 NA NA NA NA NA NA NA NA ⋯ NA NA NA NA NA NA NA NA NA NA\n",
       "4 0_11_13469 NA  1 NA NA NA NA NA NA NA ⋯ NA NA NA NA NA NA NA NA NA NA\n",
       "5 0_11_13478  5  2 NA NA NA NA NA NA NA ⋯ NA NA NA NA NA NA NA NA NA NA\n",
       "6 0_11_13480  3  2 NA NA NA NA NA NA NA ⋯ NA NA NA NA NA NA NA NA NA NA"
      ]
     },
     "metadata": {},
     "output_type": "display_data"
    }
   ],
   "source": [
    "head(dat_wide)"
   ]
  },
  {
   "cell_type": "code",
   "execution_count": 35,
   "metadata": {},
   "outputs": [
    {
     "data": {
      "text/html": [
       "<ol class=list-inline>\n",
       "\t<li>54</li>\n",
       "\t<li>46</li>\n",
       "\t<li>38</li>\n",
       "\t<li>42</li>\n",
       "\t<li>27</li>\n",
       "\t<li>28</li>\n",
       "\t<li>51</li>\n",
       "\t<li>15</li>\n",
       "\t<li>37</li>\n",
       "\t<li>7</li>\n",
       "\t<li>8</li>\n",
       "\t<li>14</li>\n",
       "\t<li>2</li>\n",
       "\t<li>19</li>\n",
       "\t<li>41</li>\n",
       "\t<li>18</li>\n",
       "\t<li>13</li>\n",
       "\t<li>31</li>\n",
       "\t<li>25</li>\n",
       "\t<li>44</li>\n",
       "\t<li>59</li>\n",
       "\t<li>56</li>\n",
       "\t<li>23</li>\n",
       "\t<li>45</li>\n",
       "\t<li>50</li>\n",
       "\t<li>47</li>\n",
       "\t<li>53</li>\n",
       "\t<li>16</li>\n",
       "\t<li>52</li>\n",
       "\t<li>35</li>\n",
       "\t<li>4</li>\n",
       "\t<li>22</li>\n",
       "\t<li>24</li>\n",
       "\t<li>29</li>\n",
       "\t<li>32</li>\n",
       "\t<li>30</li>\n",
       "\t<li>6</li>\n",
       "\t<li>10</li>\n",
       "\t<li>3</li>\n",
       "\t<li>26</li>\n",
       "\t<li>21</li>\n",
       "\t<li>0</li>\n",
       "\t<li>43</li>\n",
       "\t<li>1</li>\n",
       "\t<li>12</li>\n",
       "\t<li>5</li>\n",
       "\t<li>58</li>\n",
       "\t<li>57</li>\n",
       "\t<li>55</li>\n",
       "\t<li>17</li>\n",
       "\t<li>9</li>\n",
       "\t<li>49</li>\n",
       "\t<li>39</li>\n",
       "\t<li>40</li>\n",
       "\t<li>48</li>\n",
       "\t<li>34</li>\n",
       "\t<li>33</li>\n",
       "\t<li>20</li>\n",
       "\t<li>11</li>\n",
       "\t<li>36</li>\n",
       "</ol>\n"
      ],
      "text/latex": [
       "\\begin{enumerate*}\n",
       "\\item 54\n",
       "\\item 46\n",
       "\\item 38\n",
       "\\item 42\n",
       "\\item 27\n",
       "\\item 28\n",
       "\\item 51\n",
       "\\item 15\n",
       "\\item 37\n",
       "\\item 7\n",
       "\\item 8\n",
       "\\item 14\n",
       "\\item 2\n",
       "\\item 19\n",
       "\\item 41\n",
       "\\item 18\n",
       "\\item 13\n",
       "\\item 31\n",
       "\\item 25\n",
       "\\item 44\n",
       "\\item 59\n",
       "\\item 56\n",
       "\\item 23\n",
       "\\item 45\n",
       "\\item 50\n",
       "\\item 47\n",
       "\\item 53\n",
       "\\item 16\n",
       "\\item 52\n",
       "\\item 35\n",
       "\\item 4\n",
       "\\item 22\n",
       "\\item 24\n",
       "\\item 29\n",
       "\\item 32\n",
       "\\item 30\n",
       "\\item 6\n",
       "\\item 10\n",
       "\\item 3\n",
       "\\item 26\n",
       "\\item 21\n",
       "\\item 0\n",
       "\\item 43\n",
       "\\item 1\n",
       "\\item 12\n",
       "\\item 5\n",
       "\\item 58\n",
       "\\item 57\n",
       "\\item 55\n",
       "\\item 17\n",
       "\\item 9\n",
       "\\item 49\n",
       "\\item 39\n",
       "\\item 40\n",
       "\\item 48\n",
       "\\item 34\n",
       "\\item 33\n",
       "\\item 20\n",
       "\\item 11\n",
       "\\item 36\n",
       "\\end{enumerate*}\n"
      ],
      "text/markdown": [
       "1. 54\n",
       "2. 46\n",
       "3. 38\n",
       "4. 42\n",
       "5. 27\n",
       "6. 28\n",
       "7. 51\n",
       "8. 15\n",
       "9. 37\n",
       "10. 7\n",
       "11. 8\n",
       "12. 14\n",
       "13. 2\n",
       "14. 19\n",
       "15. 41\n",
       "16. 18\n",
       "17. 13\n",
       "18. 31\n",
       "19. 25\n",
       "20. 44\n",
       "21. 59\n",
       "22. 56\n",
       "23. 23\n",
       "24. 45\n",
       "25. 50\n",
       "26. 47\n",
       "27. 53\n",
       "28. 16\n",
       "29. 52\n",
       "30. 35\n",
       "31. 4\n",
       "32. 22\n",
       "33. 24\n",
       "34. 29\n",
       "35. 32\n",
       "36. 30\n",
       "37. 6\n",
       "38. 10\n",
       "39. 3\n",
       "40. 26\n",
       "41. 21\n",
       "42. 0\n",
       "43. 43\n",
       "44. 1\n",
       "45. 12\n",
       "46. 5\n",
       "47. 58\n",
       "48. 57\n",
       "49. 55\n",
       "50. 17\n",
       "51. 9\n",
       "52. 49\n",
       "53. 39\n",
       "54. 40\n",
       "55. 48\n",
       "56. 34\n",
       "57. 33\n",
       "58. 20\n",
       "59. 11\n",
       "60. 36\n",
       "\n",
       "\n"
      ],
      "text/plain": [
       " [1] 54 46 38 42 27 28 51 15 37  7  8 14  2 19 41 18 13 31 25 44 59 56 23 45 50\n",
       "[26] 47 53 16 52 35  4 22 24 29 32 30  6 10  3 26 21  0 43  1 12  5 58 57 55 17\n",
       "[51]  9 49 39 40 48 34 33 20 11 36"
      ]
     },
     "metadata": {},
     "output_type": "display_data"
    }
   ],
   "source": [
    "unique(sales_train$shop_id)"
   ]
  },
  {
   "cell_type": "code",
   "execution_count": null,
   "metadata": {},
   "outputs": [],
   "source": []
  }
 ],
 "metadata": {
  "kernelspec": {
   "display_name": "R",
   "language": "R",
   "name": "ir"
  },
  "language_info": {
   "codemirror_mode": "r",
   "file_extension": ".r",
   "mimetype": "text/x-r-source",
   "name": "R",
   "pygments_lexer": "r",
   "version": "3.5.1"
  }
 },
 "nbformat": 4,
 "nbformat_minor": 2
}
